{
 "cells": [
  {
   "cell_type": "code",
   "execution_count": null,
   "id": "6950dc33",
   "metadata": {},
   "outputs": [],
   "source": [
    "import AthPred as ap"
   ]
  },
  {
   "cell_type": "code",
   "execution_count": null,
   "id": "75d7ad3f",
   "metadata": {},
   "outputs": [],
   "source": [
    "ap.AthletePred()"
   ]
  }
 ],
 "metadata": {
  "kernelspec": {
   "display_name": "Python 3 (ipykernel)",
   "language": "python",
   "name": "python3"
  },
  "language_info": {
   "codemirror_mode": {
    "name": "ipython",
    "version": 3
   },
   "file_extension": ".py",
   "mimetype": "text/x-python",
   "name": "python",
   "nbconvert_exporter": "python",
   "pygments_lexer": "ipython3",
   "version": "3.10.10"
  }
 },
 "nbformat": 4,
 "nbformat_minor": 5
}
